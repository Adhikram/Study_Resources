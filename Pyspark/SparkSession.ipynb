{
 "cells": [
  {
   "cell_type": "code",
   "execution_count": 1,
   "metadata": {},
   "outputs": [
    {
     "name": "stderr",
     "output_type": "stream",
     "text": [
      "24/08/06 10:58:28 WARN Utils: Your hostname, BMMDVADHIKRAMM.local resolves to a loopback address: 127.0.0.1; using 10.106.26.42 instead (on interface en0)\n",
      "24/08/06 10:58:28 WARN Utils: Set SPARK_LOCAL_IP if you need to bind to another address\n",
      "24/08/06 10:58:28 WARN NativeCodeLoader: Unable to load native-hadoop library for your platform... using builtin-java classes where applicable\n",
      "24/08/06 10:58:29 WARN DependencyUtils: Local jar /Users/adhikram.m/personal/Study_Resources/Pyspark/mysql-connector-java-8.0.16.jar does not exist, skipping.\n",
      "24/08/06 10:58:29 INFO SparkContext: Running Spark version 3.5.1\n",
      "24/08/06 10:58:29 INFO SparkContext: OS info Mac OS X, 14.5, aarch64\n",
      "24/08/06 10:58:29 INFO SparkContext: Java version 11.0.24\n",
      "24/08/06 10:58:29 INFO ResourceUtils: ==============================================================\n",
      "24/08/06 10:58:29 INFO ResourceUtils: No custom resources configured for spark.driver.\n",
      "24/08/06 10:58:29 INFO ResourceUtils: ==============================================================\n",
      "24/08/06 10:58:29 INFO SparkContext: Submitted application: PY-Spark INIT\n",
      "24/08/06 10:58:29 INFO ResourceProfile: Default ResourceProfile created, executor resources: Map(cores -> name: cores, amount: 1, script: , vendor: , memory -> name: memory, amount: 1024, script: , vendor: , offHeap -> name: offHeap, amount: 0, script: , vendor: ), task resources: Map(cpus -> name: cpus, amount: 1.0)\n",
      "24/08/06 10:58:29 INFO ResourceProfile: Limiting resource is cpu\n",
      "24/08/06 10:58:29 INFO ResourceProfileManager: Added ResourceProfile id: 0\n",
      "24/08/06 10:58:29 INFO SecurityManager: Changing view acls to: adhikram.m\n",
      "24/08/06 10:58:29 INFO SecurityManager: Changing modify acls to: adhikram.m\n",
      "24/08/06 10:58:29 INFO SecurityManager: Changing view acls groups to: \n",
      "24/08/06 10:58:29 INFO SecurityManager: Changing modify acls groups to: \n",
      "24/08/06 10:58:29 INFO SecurityManager: SecurityManager: authentication disabled; ui acls disabled; users with view permissions: adhikram.m; groups with view permissions: EMPTY; users with modify permissions: adhikram.m; groups with modify permissions: EMPTY\n",
      "24/08/06 10:58:29 INFO Utils: Successfully started service 'sparkDriver' on port 58229.\n",
      "24/08/06 10:58:29 INFO SparkEnv: Registering MapOutputTracker\n",
      "24/08/06 10:58:29 INFO SparkEnv: Registering BlockManagerMaster\n",
      "24/08/06 10:58:29 INFO BlockManagerMasterEndpoint: Using org.apache.spark.storage.DefaultTopologyMapper for getting topology information\n",
      "24/08/06 10:58:29 INFO BlockManagerMasterEndpoint: BlockManagerMasterEndpoint up\n",
      "24/08/06 10:58:29 INFO SparkEnv: Registering BlockManagerMasterHeartbeat\n",
      "24/08/06 10:58:29 INFO DiskBlockManager: Created local directory at /private/var/folders/3v/k2n18mxd7x3bf2gbgwqbfnbw0000gp/T/blockmgr-92f5bc1c-5709-4017-b34b-8ef4066d3bc6\n",
      "24/08/06 10:58:29 INFO MemoryStore: MemoryStore started with capacity 434.4 MiB\n",
      "24/08/06 10:58:29 INFO SparkEnv: Registering OutputCommitCoordinator\n",
      "24/08/06 10:58:29 INFO JettyUtils: Start Jetty 0.0.0.0:4040 for SparkUI\n",
      "24/08/06 10:58:29 WARN Utils: Service 'SparkUI' could not bind on port 4040. Attempting port 4041.\n",
      "24/08/06 10:58:29 WARN Utils: Service 'SparkUI' could not bind on port 4041. Attempting port 4042.\n",
      "24/08/06 10:58:29 WARN Utils: Service 'SparkUI' could not bind on port 4042. Attempting port 4043.\n",
      "24/08/06 10:58:29 WARN Utils: Service 'SparkUI' could not bind on port 4043. Attempting port 4044.\n",
      "24/08/06 10:58:29 WARN Utils: Service 'SparkUI' could not bind on port 4044. Attempting port 4045.\n",
      "24/08/06 10:58:29 INFO Utils: Successfully started service 'SparkUI' on port 4045.\n",
      "24/08/06 10:58:29 ERROR SparkContext: Failed to add mysql-connector-java-8.0.16.jar to Spark environment\n",
      "java.io.FileNotFoundException: Jar /Users/adhikram.m/personal/Study_Resources/Pyspark/mysql-connector-java-8.0.16.jar not found\n",
      "\tat org.apache.spark.SparkContext.addLocalJarFile$1(SparkContext.scala:2100)\n",
      "\tat org.apache.spark.SparkContext.addJar(SparkContext.scala:2156)\n",
      "\tat org.apache.spark.SparkContext.$anonfun$new$15(SparkContext.scala:526)\n",
      "\tat org.apache.spark.SparkContext.$anonfun$new$15$adapted(SparkContext.scala:526)\n",
      "\tat scala.collection.mutable.ResizableArray.foreach(ResizableArray.scala:62)\n",
      "\tat scala.collection.mutable.ResizableArray.foreach$(ResizableArray.scala:55)\n",
      "\tat scala.collection.mutable.ArrayBuffer.foreach(ArrayBuffer.scala:49)\n",
      "\tat org.apache.spark.SparkContext.<init>(SparkContext.scala:526)\n",
      "\tat org.apache.spark.api.java.JavaSparkContext.<init>(JavaSparkContext.scala:58)\n",
      "\tat java.base/jdk.internal.reflect.NativeConstructorAccessorImpl.newInstance0(Native Method)\n",
      "\tat java.base/jdk.internal.reflect.NativeConstructorAccessorImpl.newInstance(NativeConstructorAccessorImpl.java:62)\n",
      "\tat java.base/jdk.internal.reflect.DelegatingConstructorAccessorImpl.newInstance(DelegatingConstructorAccessorImpl.java:45)\n",
      "\tat java.base/java.lang.reflect.Constructor.newInstance(Constructor.java:490)\n",
      "\tat py4j.reflection.MethodInvoker.invoke(MethodInvoker.java:247)\n",
      "\tat py4j.reflection.ReflectionEngine.invoke(ReflectionEngine.java:374)\n",
      "\tat py4j.Gateway.invoke(Gateway.java:238)\n",
      "\tat py4j.commands.ConstructorCommand.invokeConstructor(ConstructorCommand.java:80)\n",
      "\tat py4j.commands.ConstructorCommand.execute(ConstructorCommand.java:69)\n",
      "\tat py4j.ClientServerConnection.waitForCommands(ClientServerConnection.java:182)\n",
      "\tat py4j.ClientServerConnection.run(ClientServerConnection.java:106)\n",
      "\tat java.base/java.lang.Thread.run(Thread.java:829)\n",
      "24/08/06 10:58:29 INFO Executor: Starting executor ID driver on host 10.106.26.42\n",
      "24/08/06 10:58:29 INFO Executor: OS info Mac OS X, 14.5, aarch64\n",
      "24/08/06 10:58:29 INFO Executor: Java version 11.0.24\n",
      "24/08/06 10:58:29 INFO Executor: Starting executor with user classpath (userClassPathFirst = false): 'file:/Users/adhikram.m/personal/Study_Resources/Pyspark/mysql-connector-java-8.0.16.jar,file:/Users/adhikram.m/personal/Study_Resources/Pyspark/mysql-connector-java-8.0.16.jar'\n",
      "24/08/06 10:58:29 INFO Executor: Created or updated repl class loader org.apache.spark.util.MutableURLClassLoader@16a380e1 for default.\n",
      "24/08/06 10:58:29 INFO Utils: Successfully started service 'org.apache.spark.network.netty.NettyBlockTransferService' on port 58230.\n",
      "24/08/06 10:58:29 INFO NettyBlockTransferService: Server created on 10.106.26.42:58230\n",
      "24/08/06 10:58:29 INFO BlockManager: Using org.apache.spark.storage.RandomBlockReplicationPolicy for block replication policy\n",
      "24/08/06 10:58:29 INFO BlockManagerMaster: Registering BlockManager BlockManagerId(driver, 10.106.26.42, 58230, None)\n",
      "24/08/06 10:58:29 INFO BlockManagerMasterEndpoint: Registering block manager 10.106.26.42:58230 with 434.4 MiB RAM, BlockManagerId(driver, 10.106.26.42, 58230, None)\n",
      "24/08/06 10:58:29 INFO BlockManagerMaster: Registered BlockManager BlockManagerId(driver, 10.106.26.42, 58230, None)\n",
      "24/08/06 10:58:29 INFO BlockManager: Initialized BlockManager: BlockManagerId(driver, 10.106.26.42, 58230, None)\n",
      "24/08/06 10:58:29 INFO SharedState: Setting hive.metastore.warehouse.dir ('null') to the value of spark.sql.warehouse.dir.\n",
      "24/08/06 10:58:29 INFO SharedState: Warehouse path is 'file:/Users/adhikram.m/personal/Study_Resources/Pyspark/spark-warehouse'.\n"
     ]
    },
    {
     "ename": "AnalysisException",
     "evalue": "[PATH_NOT_FOUND] Path does not exist: file:/Users/adhikram.m/personal/Study_Resources/Pyspark/inappropriate_words.txt.",
     "output_type": "error",
     "traceback": [
      "\u001b[0;31m---------------------------------------------------------------------------\u001b[0m",
      "\u001b[0;31mAnalysisException\u001b[0m                         Traceback (most recent call last)",
      "Cell \u001b[0;32mIn[1], line 8\u001b[0m\n\u001b[1;32m      2\u001b[0m \u001b[38;5;28;01mfrom\u001b[39;00m \u001b[38;5;21;01mpyspark\u001b[39;00m\u001b[38;5;21;01m.\u001b[39;00m\u001b[38;5;21;01msql\u001b[39;00m \u001b[38;5;28;01mimport\u001b[39;00m SparkSession\n\u001b[1;32m      3\u001b[0m spark \u001b[38;5;241m=\u001b[39m SparkSession\u001b[38;5;241m.\u001b[39mbuilder\u001b[38;5;241m.\u001b[39mappName(\u001b[38;5;124m'\u001b[39m\u001b[38;5;124mPY-Spark INIT\u001b[39m\u001b[38;5;124m'\u001b[39m)\\\n\u001b[1;32m      4\u001b[0m     \u001b[38;5;241m.\u001b[39mconfig(\u001b[38;5;124m'\u001b[39m\u001b[38;5;124mspark.driver.extraClassPath\u001b[39m\u001b[38;5;124m'\u001b[39m, \u001b[38;5;124m'\u001b[39m\u001b[38;5;124mmysql-connector-java-8.0.16.jar\u001b[39m\u001b[38;5;124m'\u001b[39m)\\\n\u001b[1;32m      5\u001b[0m     \u001b[38;5;241m.\u001b[39mconfig(\u001b[38;5;124m'\u001b[39m\u001b[38;5;124mspark.executor.extraClassPath\u001b[39m\u001b[38;5;124m'\u001b[39m, \u001b[38;5;124m'\u001b[39m\u001b[38;5;124mmysql-connector-java-8.0.16.jar\u001b[39m\u001b[38;5;124m'\u001b[39m)\\\n\u001b[1;32m      6\u001b[0m     \u001b[38;5;241m.\u001b[39mconfig(\u001b[38;5;124m'\u001b[39m\u001b[38;5;124mspark.jars\u001b[39m\u001b[38;5;124m'\u001b[39m, \u001b[38;5;124m'\u001b[39m\u001b[38;5;124mmysql-connector-java-8.0.16.jar\u001b[39m\u001b[38;5;124m'\u001b[39m)\\\n\u001b[1;32m      7\u001b[0m \u001b[38;5;241m.\u001b[39menableHiveSupport()\u001b[38;5;241m.\u001b[39mgetOrCreate()\n\u001b[0;32m----> 8\u001b[0m curse_words \u001b[38;5;241m=\u001b[39m \u001b[43mspark\u001b[49m\u001b[38;5;241;43m.\u001b[39;49m\u001b[43mread\u001b[49m\u001b[38;5;241;43m.\u001b[39;49m\u001b[43mtext\u001b[49m\u001b[43m(\u001b[49m\u001b[38;5;124;43m\"\u001b[39;49m\u001b[38;5;124;43minappropriate_words.txt\u001b[39;49m\u001b[38;5;124;43m\"\u001b[39;49m\u001b[43m)\u001b[49m\n\u001b[1;32m      9\u001b[0m curse_words\u001b[38;5;241m.\u001b[39mshow()\n",
      "File \u001b[0;32m~/.pyenv/versions/3.11.5/envs/devenv/lib/python3.11/site-packages/pyspark/sql/readwriter.py:615\u001b[0m, in \u001b[0;36mDataFrameReader.text\u001b[0;34m(self, paths, wholetext, lineSep, pathGlobFilter, recursiveFileLookup, modifiedBefore, modifiedAfter)\u001b[0m\n\u001b[1;32m    613\u001b[0m     paths \u001b[38;5;241m=\u001b[39m [paths]\n\u001b[1;32m    614\u001b[0m \u001b[38;5;28;01massert\u001b[39;00m \u001b[38;5;28mself\u001b[39m\u001b[38;5;241m.\u001b[39m_spark\u001b[38;5;241m.\u001b[39m_sc\u001b[38;5;241m.\u001b[39m_jvm \u001b[38;5;129;01mis\u001b[39;00m \u001b[38;5;129;01mnot\u001b[39;00m \u001b[38;5;28;01mNone\u001b[39;00m\n\u001b[0;32m--> 615\u001b[0m \u001b[38;5;28;01mreturn\u001b[39;00m \u001b[38;5;28mself\u001b[39m\u001b[38;5;241m.\u001b[39m_df(\u001b[38;5;28;43mself\u001b[39;49m\u001b[38;5;241;43m.\u001b[39;49m\u001b[43m_jreader\u001b[49m\u001b[38;5;241;43m.\u001b[39;49m\u001b[43mtext\u001b[49m\u001b[43m(\u001b[49m\u001b[38;5;28;43mself\u001b[39;49m\u001b[38;5;241;43m.\u001b[39;49m\u001b[43m_spark\u001b[49m\u001b[38;5;241;43m.\u001b[39;49m\u001b[43m_sc\u001b[49m\u001b[38;5;241;43m.\u001b[39;49m\u001b[43m_jvm\u001b[49m\u001b[38;5;241;43m.\u001b[39;49m\u001b[43mPythonUtils\u001b[49m\u001b[38;5;241;43m.\u001b[39;49m\u001b[43mtoSeq\u001b[49m\u001b[43m(\u001b[49m\u001b[43mpaths\u001b[49m\u001b[43m)\u001b[49m\u001b[43m)\u001b[49m)\n",
      "File \u001b[0;32m~/.pyenv/versions/3.11.5/envs/devenv/lib/python3.11/site-packages/py4j/java_gateway.py:1322\u001b[0m, in \u001b[0;36mJavaMember.__call__\u001b[0;34m(self, *args)\u001b[0m\n\u001b[1;32m   1316\u001b[0m command \u001b[38;5;241m=\u001b[39m proto\u001b[38;5;241m.\u001b[39mCALL_COMMAND_NAME \u001b[38;5;241m+\u001b[39m\\\n\u001b[1;32m   1317\u001b[0m     \u001b[38;5;28mself\u001b[39m\u001b[38;5;241m.\u001b[39mcommand_header \u001b[38;5;241m+\u001b[39m\\\n\u001b[1;32m   1318\u001b[0m     args_command \u001b[38;5;241m+\u001b[39m\\\n\u001b[1;32m   1319\u001b[0m     proto\u001b[38;5;241m.\u001b[39mEND_COMMAND_PART\n\u001b[1;32m   1321\u001b[0m answer \u001b[38;5;241m=\u001b[39m \u001b[38;5;28mself\u001b[39m\u001b[38;5;241m.\u001b[39mgateway_client\u001b[38;5;241m.\u001b[39msend_command(command)\n\u001b[0;32m-> 1322\u001b[0m return_value \u001b[38;5;241m=\u001b[39m \u001b[43mget_return_value\u001b[49m\u001b[43m(\u001b[49m\n\u001b[1;32m   1323\u001b[0m \u001b[43m    \u001b[49m\u001b[43manswer\u001b[49m\u001b[43m,\u001b[49m\u001b[43m \u001b[49m\u001b[38;5;28;43mself\u001b[39;49m\u001b[38;5;241;43m.\u001b[39;49m\u001b[43mgateway_client\u001b[49m\u001b[43m,\u001b[49m\u001b[43m \u001b[49m\u001b[38;5;28;43mself\u001b[39;49m\u001b[38;5;241;43m.\u001b[39;49m\u001b[43mtarget_id\u001b[49m\u001b[43m,\u001b[49m\u001b[43m \u001b[49m\u001b[38;5;28;43mself\u001b[39;49m\u001b[38;5;241;43m.\u001b[39;49m\u001b[43mname\u001b[49m\u001b[43m)\u001b[49m\n\u001b[1;32m   1325\u001b[0m \u001b[38;5;28;01mfor\u001b[39;00m temp_arg \u001b[38;5;129;01min\u001b[39;00m temp_args:\n\u001b[1;32m   1326\u001b[0m     \u001b[38;5;28;01mif\u001b[39;00m \u001b[38;5;28mhasattr\u001b[39m(temp_arg, \u001b[38;5;124m\"\u001b[39m\u001b[38;5;124m_detach\u001b[39m\u001b[38;5;124m\"\u001b[39m):\n",
      "File \u001b[0;32m~/.pyenv/versions/3.11.5/envs/devenv/lib/python3.11/site-packages/pyspark/errors/exceptions/captured.py:185\u001b[0m, in \u001b[0;36mcapture_sql_exception.<locals>.deco\u001b[0;34m(*a, **kw)\u001b[0m\n\u001b[1;32m    181\u001b[0m converted \u001b[38;5;241m=\u001b[39m convert_exception(e\u001b[38;5;241m.\u001b[39mjava_exception)\n\u001b[1;32m    182\u001b[0m \u001b[38;5;28;01mif\u001b[39;00m \u001b[38;5;129;01mnot\u001b[39;00m \u001b[38;5;28misinstance\u001b[39m(converted, UnknownException):\n\u001b[1;32m    183\u001b[0m     \u001b[38;5;66;03m# Hide where the exception came from that shows a non-Pythonic\u001b[39;00m\n\u001b[1;32m    184\u001b[0m     \u001b[38;5;66;03m# JVM exception message.\u001b[39;00m\n\u001b[0;32m--> 185\u001b[0m     \u001b[38;5;28;01mraise\u001b[39;00m converted \u001b[38;5;28;01mfrom\u001b[39;00m \u001b[38;5;28;01mNone\u001b[39;00m\n\u001b[1;32m    186\u001b[0m \u001b[38;5;28;01melse\u001b[39;00m:\n\u001b[1;32m    187\u001b[0m     \u001b[38;5;28;01mraise\u001b[39;00m\n",
      "\u001b[0;31mAnalysisException\u001b[0m: [PATH_NOT_FOUND] Path does not exist: file:/Users/adhikram.m/personal/Study_Resources/Pyspark/inappropriate_words.txt."
     ]
    }
   ],
   "source": [
    "import pyspark\n",
    "from pyspark.sql import SparkSession\n",
    "spark = SparkSession.builder.appName('PY-Spark INIT')\\\n",
    "    .config('spark.driver.extraClassPath', 'mysql-connector-java-8.0.16.jar')\\\n",
    "    .config('spark.executor.extraClassPath', 'mysql-connector-java-8.0.16.jar')\\\n",
    "    .config('spark.jars', 'mysql-connector-java-8.0.16.jar')\\\n",
    ".enableHiveSupport().getOrCreate()\n",
    "curse_words = spark.read.text(\"inappropriate_words.txt\")\n",
    "curse_words.show()"
   ]
  },
  {
   "cell_type": "code",
   "execution_count": null,
   "metadata": {},
   "outputs": [],
   "source": []
  }
 ],
 "metadata": {
  "kernelspec": {
   "display_name": "Python 3",
   "language": "python",
   "name": "python3"
  },
  "language_info": {
   "codemirror_mode": {
    "name": "ipython",
    "version": 3
   },
   "file_extension": ".py",
   "mimetype": "text/x-python",
   "name": "python",
   "nbconvert_exporter": "python",
   "pygments_lexer": "ipython3",
   "version": "3.11.5"
  }
 },
 "nbformat": 4,
 "nbformat_minor": 2
}
