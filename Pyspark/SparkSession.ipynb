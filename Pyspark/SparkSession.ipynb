{
 "cells": [
  {
   "cell_type": "code",
   "execution_count": null,
   "metadata": {},
   "outputs": [],
   "source": [
    "from pyspark.sql import SparkSession\n",
    "spark = SparkSession.builder.appName('PY-Spark INIT')\\\n",
    "    .config('spark.driver.extraClassPath', 'mysql-connector-java-8.0.16.jar')\\\n",
    "    .config('spark.executor.extraClassPath', 'mysql-connector-java-8.0.16.jar')\\\n",
    "    .config('spark.jars', 'mysql-connector-java-8.0.16.jar')\\\n",
    ".enableHiveSupport().getOrCreate()\n",
    "curse_words = spark.read.text(\"inappropriate_words.txt\")\n",
    "curse_words.show()"
   ]
  }
 ],
 "metadata": {
  "kernelspec": {
   "display_name": "Python 3",
   "language": "python",
   "name": "python3"
  },
  "language_info": {
   "name": "python",
   "version": "3.8.10"
  }
 },
 "nbformat": 4,
 "nbformat_minor": 2
}
