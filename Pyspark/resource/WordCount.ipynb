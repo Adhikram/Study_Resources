{
 "cells": [
  {
   "cell_type": "code",
   "execution_count": 2,
   "metadata": {},
   "outputs": [
    {
     "name": "stdout",
     "output_type": "stream",
     "text": [
      "lorem: 2\n",
      "ipsum: 2\n",
      "dolor: 2\n",
      "adipiscing: 2\n",
      "sit: 2\n",
      "consectetur: 2\n",
      "amet: 2\n",
      "elit: 2\n",
      "dolore: 1\n",
      "incididunt: 1\n",
      "ut: 1\n",
      "magna: 1\n",
      "aliqua: 1\n",
      "eiusmod: 1\n",
      "et: 1\n",
      "labore: 1\n",
      "sed: 1\n",
      "do: 1\n",
      "tempor: 1\n"
     ]
    },
    {
     "name": "stderr",
     "output_type": "stream",
     "text": [
      "24/11/28 07:50:12 WARN GarbageCollectionMetrics: To enable non-built-in garbage collector(s) List(G1 Concurrent GC), users should configure it(them) to spark.eventLog.gcMetrics.youngGenerationGarbageCollectors or spark.eventLog.gcMetrics.oldGenerationGarbageCollectors\n"
     ]
    }
   ],
   "source": [
    "from pyspark.sql import SparkSession\n",
    "from pyspark.sql.functions import col, regexp_replace, split, explode\n",
    "\n",
    "# Create a SparkSession\n",
    "spark = SparkSession.builder \\\n",
    "    .appName(\"WordCount\") \\\n",
    "    .getOrCreate()\n",
    "\n",
    "# Sample text (lorem ipsum)\n",
    "text_data = [\"Lorem ipsum dolor sit amet, consectetur adipiscing elit.\",\n",
    "             \"Lorem ipsum dolor sit amet, consectetur adipiscing elit.\",\n",
    "             \"Sed do eiusmod tempor incididunt ut labore et dolore magna aliqua.\"]\n",
    "\n",
    "# Create an RDD from the text data\n",
    "rdd = spark.sparkContext.parallelize(text_data)\n",
    "\n",
    "# Convert all words to lowercase and split each line into words\n",
    "words_rdd = rdd.flatMap(lambda line: line.lower().split())\n",
    "\n",
    "# Remove punctuation from each word\n",
    "import re\n",
    "words_cleaned_rdd = words_rdd.map(lambda word: re.sub(r'[^\\w\\s]', '', word))\n",
    "\n",
    "# \\w: Matches any word character (equivalent to [a-zA-Z0-9_]).\n",
    "# \\s: Matches any whitespace character (spaces, tabs, newlines).\n",
    "# ^: When used inside square brackets, it negates the character class. So,\n",
    "# [^\\w\\s] matches any character that is not a word character or a whitespace character.\n",
    "\n",
    "# Create pairs (word, 1) using map\n",
    "word_pairs = words_cleaned_rdd.map(lambda word: (word, 1))\n",
    "\n",
    "# Reduce by key (word) to count frequency\n",
    "word_counts = word_pairs.reduceByKey(lambda a, b: a + b)\n",
    "\n",
    "# Sort the result by word frequency\n",
    "sorted_word_counts = word_counts.sortBy(lambda x: x[1], ascending=False)\n",
    "\n",
    "# Collect and display the word counts\n",
    "for word, count in sorted_word_counts.collect():\n",
    "    print(f\"{word}: {count}\")\n",
    "\n"
   ]
  },
  {
   "cell_type": "code",
   "execution_count": 17,
   "metadata": {},
   "outputs": [
    {
     "name": "stdout",
     "output_type": "stream",
     "text": [
      "lorem: 2\n",
      "dolor: 2\n",
      "adipiscing: 2\n",
      "ipsum: 2\n",
      "sit: 2\n",
      "amet: 2\n",
      "consectetur: 2\n",
      "elit: 2\n",
      "sed: 1\n",
      "eiusmod: 1\n",
      "incididunt: 1\n",
      "ut: 1\n",
      "et: 1\n",
      "dolore: 1\n",
      "magna: 1\n",
      "aliqua: 1\n",
      "do: 1\n",
      "tempor: 1\n",
      "labore: 1\n"
     ]
    }
   ],
   "source": [
    "# Sample text (lorem ipsum)\n",
    "from pyspark.sql import SparkSession\n",
    "\n",
    "# Initialize Spark session\n",
    "spark = SparkSession.builder.appName(\"WordFrequency\").getOrCreate()\n",
    "\n",
    "# Sample text (lorem ipsum)\n",
    "text_data = [\"Lorem ipsum dolor sit amet, consectetur adipiscing elit.\",\n",
    "             \"Lorem ipsum dolor sit amet, consectetur adipiscing elit.\",\n",
    "             \"Sed do eiusmod tempor incididunt ut labore et dolore magna aliqua.\"]\n",
    "\n",
    "# Create an RDD from the text data\n",
    "rdd = spark.sparkContext.parallelize(text_data).repartition(2)\n",
    "\n",
    "# Convert all words to lowercase and split each line into words\n",
    "words_rdd = rdd.flatMap(lambda line: line.lower().split())\n",
    "\n",
    "# Remove punctuation from each word\n",
    "import re\n",
    "words_cleaned_rdd = words_rdd.map(lambda word: re.sub(r'[^\\w\\s]', '', word))\n",
    "\n",
    "# \\w: Matches any word character (equivalent to [a-zA-Z0-9_]).\n",
    "# \\s: Matches any whitespace character (spaces, tabs, newlines).\n",
    "# ^: When used inside square brackets, it negates the character class. So,\n",
    "# [^\\w\\s] matches any character that is not a word character or a whitespace character.\n",
    "\n",
    "# Create pairs (word, 1) using map\n",
    "word_pairs = words_cleaned_rdd.map(lambda word: (word, 1))\n",
    "\n",
    "# Reduce by key (word) to count frequency\n",
    "word_counts = word_pairs.reduceByKey(lambda a, b: a + b).cache()\n",
    "\n",
    "# Sort the result by word frequency\n",
    "sorted_word_counts = word_counts.sortBy(lambda x: x[1], ascending=False)\n",
    "# sorted_word_counts\n",
    "\n",
    "# Collect and display the word counts\n",
    "for word, count in sorted_word_counts.collect():\n",
    "    print(f\"{word}: {count}\")\n",
    "\n"
   ]
  },
  {
   "cell_type": "code",
   "execution_count": 1,
   "metadata": {},
   "outputs": [
    {
     "name": "stderr",
     "output_type": "stream",
     "text": [
      "24/12/20 15:24:43 WARN Utils: Your hostname, BMMDVADHIKRAMM.local resolves to a loopback address: 127.0.0.1; using 192.168.1.5 instead (on interface en0)\n",
      "24/12/20 15:24:43 WARN Utils: Set SPARK_LOCAL_IP if you need to bind to another address\n",
      "Setting default log level to \"WARN\".\n",
      "To adjust logging level use sc.setLogLevel(newLevel). For SparkR, use setLogLevel(newLevel).\n",
      "24/12/20 15:24:44 WARN NativeCodeLoader: Unable to load native-hadoop library for your platform... using builtin-java classes where applicable\n",
      "[Stage 0:>                                                          (0 + 4) / 4]\r"
     ]
    },
    {
     "ename": "AnalysisException",
     "evalue": "[PATH_ALREADY_EXISTS] Path file:/Users/adhikram.m/personal/Study_Resources/Pyspark/resource/word_counts_test already exists. Set mode as \"overwrite\" to overwrite the existing path.",
     "output_type": "error",
     "traceback": [
      "\u001b[0;31m---------------------------------------------------------------------------\u001b[0m",
      "\u001b[0;31mAnalysisException\u001b[0m                         Traceback (most recent call last)",
      "Cell \u001b[0;32mIn[1], line 27\u001b[0m\n\u001b[1;32m     22\u001b[0m word_counts \u001b[38;5;241m=\u001b[39m words_df\u001b[38;5;241m.\u001b[39mgroupBy(\u001b[38;5;124m\"\u001b[39m\u001b[38;5;124mword\u001b[39m\u001b[38;5;124m\"\u001b[39m)\u001b[38;5;241m.\u001b[39mcount()\n\u001b[1;32m     24\u001b[0m \u001b[38;5;66;03m# Show the word counts\u001b[39;00m\n\u001b[1;32m     25\u001b[0m \u001b[38;5;66;03m# word_counts.show()\u001b[39;00m\n\u001b[1;32m     26\u001b[0m \u001b[38;5;66;03m# save the data into a csv file\u001b[39;00m\n\u001b[0;32m---> 27\u001b[0m \u001b[43mword_counts\u001b[49m\u001b[38;5;241;43m.\u001b[39;49m\u001b[43mwrite\u001b[49m\u001b[38;5;241;43m.\u001b[39;49m\u001b[43mcsv\u001b[49m\u001b[43m(\u001b[49m\u001b[38;5;124;43m\"\u001b[39;49m\u001b[38;5;124;43mword_counts_test\u001b[39;49m\u001b[38;5;124;43m\"\u001b[39;49m\u001b[43m)\u001b[49m\n",
      "File \u001b[0;32m~/.pyenv/versions/3.11.5/envs/devenv/lib/python3.11/site-packages/pyspark/sql/readwriter.py:1864\u001b[0m, in \u001b[0;36mDataFrameWriter.csv\u001b[0;34m(self, path, mode, compression, sep, quote, escape, header, nullValue, escapeQuotes, quoteAll, dateFormat, timestampFormat, ignoreLeadingWhiteSpace, ignoreTrailingWhiteSpace, charToEscapeQuoteEscaping, encoding, emptyValue, lineSep)\u001b[0m\n\u001b[1;32m   1845\u001b[0m \u001b[38;5;28mself\u001b[39m\u001b[38;5;241m.\u001b[39mmode(mode)\n\u001b[1;32m   1846\u001b[0m \u001b[38;5;28mself\u001b[39m\u001b[38;5;241m.\u001b[39m_set_opts(\n\u001b[1;32m   1847\u001b[0m     compression\u001b[38;5;241m=\u001b[39mcompression,\n\u001b[1;32m   1848\u001b[0m     sep\u001b[38;5;241m=\u001b[39msep,\n\u001b[0;32m   (...)\u001b[0m\n\u001b[1;32m   1862\u001b[0m     lineSep\u001b[38;5;241m=\u001b[39mlineSep,\n\u001b[1;32m   1863\u001b[0m )\n\u001b[0;32m-> 1864\u001b[0m \u001b[38;5;28;43mself\u001b[39;49m\u001b[38;5;241;43m.\u001b[39;49m\u001b[43m_jwrite\u001b[49m\u001b[38;5;241;43m.\u001b[39;49m\u001b[43mcsv\u001b[49m\u001b[43m(\u001b[49m\u001b[43mpath\u001b[49m\u001b[43m)\u001b[49m\n",
      "File \u001b[0;32m~/.pyenv/versions/3.11.5/envs/devenv/lib/python3.11/site-packages/py4j/java_gateway.py:1322\u001b[0m, in \u001b[0;36mJavaMember.__call__\u001b[0;34m(self, *args)\u001b[0m\n\u001b[1;32m   1316\u001b[0m command \u001b[38;5;241m=\u001b[39m proto\u001b[38;5;241m.\u001b[39mCALL_COMMAND_NAME \u001b[38;5;241m+\u001b[39m\\\n\u001b[1;32m   1317\u001b[0m     \u001b[38;5;28mself\u001b[39m\u001b[38;5;241m.\u001b[39mcommand_header \u001b[38;5;241m+\u001b[39m\\\n\u001b[1;32m   1318\u001b[0m     args_command \u001b[38;5;241m+\u001b[39m\\\n\u001b[1;32m   1319\u001b[0m     proto\u001b[38;5;241m.\u001b[39mEND_COMMAND_PART\n\u001b[1;32m   1321\u001b[0m answer \u001b[38;5;241m=\u001b[39m \u001b[38;5;28mself\u001b[39m\u001b[38;5;241m.\u001b[39mgateway_client\u001b[38;5;241m.\u001b[39msend_command(command)\n\u001b[0;32m-> 1322\u001b[0m return_value \u001b[38;5;241m=\u001b[39m \u001b[43mget_return_value\u001b[49m\u001b[43m(\u001b[49m\n\u001b[1;32m   1323\u001b[0m \u001b[43m    \u001b[49m\u001b[43manswer\u001b[49m\u001b[43m,\u001b[49m\u001b[43m \u001b[49m\u001b[38;5;28;43mself\u001b[39;49m\u001b[38;5;241;43m.\u001b[39;49m\u001b[43mgateway_client\u001b[49m\u001b[43m,\u001b[49m\u001b[43m \u001b[49m\u001b[38;5;28;43mself\u001b[39;49m\u001b[38;5;241;43m.\u001b[39;49m\u001b[43mtarget_id\u001b[49m\u001b[43m,\u001b[49m\u001b[43m \u001b[49m\u001b[38;5;28;43mself\u001b[39;49m\u001b[38;5;241;43m.\u001b[39;49m\u001b[43mname\u001b[49m\u001b[43m)\u001b[49m\n\u001b[1;32m   1325\u001b[0m \u001b[38;5;28;01mfor\u001b[39;00m temp_arg \u001b[38;5;129;01min\u001b[39;00m temp_args:\n\u001b[1;32m   1326\u001b[0m     \u001b[38;5;28;01mif\u001b[39;00m \u001b[38;5;28mhasattr\u001b[39m(temp_arg, \u001b[38;5;124m\"\u001b[39m\u001b[38;5;124m_detach\u001b[39m\u001b[38;5;124m\"\u001b[39m):\n",
      "File \u001b[0;32m~/.pyenv/versions/3.11.5/envs/devenv/lib/python3.11/site-packages/pyspark/errors/exceptions/captured.py:185\u001b[0m, in \u001b[0;36mcapture_sql_exception.<locals>.deco\u001b[0;34m(*a, **kw)\u001b[0m\n\u001b[1;32m    181\u001b[0m converted \u001b[38;5;241m=\u001b[39m convert_exception(e\u001b[38;5;241m.\u001b[39mjava_exception)\n\u001b[1;32m    182\u001b[0m \u001b[38;5;28;01mif\u001b[39;00m \u001b[38;5;129;01mnot\u001b[39;00m \u001b[38;5;28misinstance\u001b[39m(converted, UnknownException):\n\u001b[1;32m    183\u001b[0m     \u001b[38;5;66;03m# Hide where the exception came from that shows a non-Pythonic\u001b[39;00m\n\u001b[1;32m    184\u001b[0m     \u001b[38;5;66;03m# JVM exception message.\u001b[39;00m\n\u001b[0;32m--> 185\u001b[0m     \u001b[38;5;28;01mraise\u001b[39;00m converted \u001b[38;5;28;01mfrom\u001b[39;00m \u001b[38;5;28;01mNone\u001b[39;00m\n\u001b[1;32m    186\u001b[0m \u001b[38;5;28;01melse\u001b[39;00m:\n\u001b[1;32m    187\u001b[0m     \u001b[38;5;28;01mraise\u001b[39;00m\n",
      "\u001b[0;31mAnalysisException\u001b[0m: [PATH_ALREADY_EXISTS] Path file:/Users/adhikram.m/personal/Study_Resources/Pyspark/resource/word_counts_test already exists. Set mode as \"overwrite\" to overwrite the existing path."
     ]
    },
    {
     "name": "stderr",
     "output_type": "stream",
     "text": [
      "24/12/20 15:24:58 WARN GarbageCollectionMetrics: To enable non-built-in garbage collector(s) List(G1 Concurrent GC), users should configure it(them) to spark.eventLog.gcMetrics.youngGenerationGarbageCollectors or spark.eventLog.gcMetrics.oldGenerationGarbageCollectors\n"
     ]
    }
   ],
   "source": [
    "from pyspark.sql import SparkSession\n",
    "from pyspark.sql.functions import col, regexp_replace, split, explode\n",
    "\n",
    "# Initialize Spark session\n",
    "spark = SparkSession.builder.appName(\"WordFrequency\").config(\"spark.default.parallelism\", \"4\").getOrCreate()\n",
    "\n",
    "# Sample text (lorem ipsum)\n",
    "text_data = [\"Lorem ipsum dolor sit amet, consectetur adipiscing elit.\",\n",
    "             \"Lorem ipsum dolor sit amet, consectetur adipiscing elit.\",\n",
    "             \"Sed do eiusmod tempor incididunt ut labore et dolore magna aliqua.\"]\n",
    "\n",
    "# Create DataFrame with a specified column name\n",
    "text_df = spark.createDataFrame([(line,) for line in text_data], [\"value\"])\n",
    "\n",
    "# Replace multiple delimiters (',', ':', and '.') with a single space\n",
    "cleaned_text_df = text_df.withColumn(\"cleaned_text\", regexp_replace(col(\"value\"), \"[,:.]\", \" \"))\n",
    "\n",
    "# Split the lines into words\n",
    "words_df = cleaned_text_df.select(explode(split(col(\"cleaned_text\"), \"\\s+\")).alias(\"word\"))\n",
    "\n",
    "# Count the occurrences of each word\n",
    "word_counts = words_df.groupBy(\"word\").count()\n",
    "\n",
    "# Show the word counts\n",
    "# word_counts.show()\n",
    "# save the data into a csv file\n",
    "word_counts.write.csv(\"word_counts_test\")\n"
   ]
  },
  {
   "cell_type": "code",
   "execution_count": 2,
   "metadata": {},
   "outputs": [],
   "source": [
    "# Stop the SparkSession\n",
    "spark.stop()"
   ]
  }
 ],
 "metadata": {
  "kernelspec": {
   "display_name": "devenv",
   "language": "python",
   "name": "python3"
  },
  "language_info": {
   "codemirror_mode": {
    "name": "ipython",
    "version": 3
   },
   "file_extension": ".py",
   "mimetype": "text/x-python",
   "name": "python",
   "nbconvert_exporter": "python",
   "pygments_lexer": "ipython3",
   "version": "3.11.5"
  }
 },
 "nbformat": 4,
 "nbformat_minor": 2
}
