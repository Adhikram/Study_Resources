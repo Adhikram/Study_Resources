{
 "cells": [
  {
   "cell_type": "code",
   "execution_count": 2,
   "metadata": {},
   "outputs": [
    {
     "name": "stdout",
     "output_type": "stream",
     "text": [
      "lorem: 2\n",
      "ipsum: 2\n",
      "dolor: 2\n",
      "adipiscing: 2\n",
      "sit: 2\n",
      "consectetur: 2\n",
      "amet: 2\n",
      "elit: 2\n",
      "dolore: 1\n",
      "incididunt: 1\n",
      "ut: 1\n",
      "magna: 1\n",
      "aliqua: 1\n",
      "eiusmod: 1\n",
      "et: 1\n",
      "labore: 1\n",
      "sed: 1\n",
      "do: 1\n",
      "tempor: 1\n"
     ]
    },
    {
     "name": "stderr",
     "output_type": "stream",
     "text": [
      "24/11/28 07:50:12 WARN GarbageCollectionMetrics: To enable non-built-in garbage collector(s) List(G1 Concurrent GC), users should configure it(them) to spark.eventLog.gcMetrics.youngGenerationGarbageCollectors or spark.eventLog.gcMetrics.oldGenerationGarbageCollectors\n"
     ]
    }
   ],
   "source": [
    "from pyspark.sql import SparkSession\n",
    "from pyspark.sql.functions import col, regexp_replace, split, explode\n",
    "\n",
    "# Create a SparkSession\n",
    "spark = SparkSession.builder \\\n",
    "    .appName(\"WordCount\") \\\n",
    "    .getOrCreate()\n",
    "\n",
    "# Sample text (lorem ipsum)\n",
    "text_data = [\"Lorem ipsum dolor sit amet, consectetur adipiscing elit.\",\n",
    "             \"Lorem ipsum dolor sit amet, consectetur adipiscing elit.\",\n",
    "             \"Sed do eiusmod tempor incididunt ut labore et dolore magna aliqua.\"]\n",
    "\n",
    "# Create an RDD from the text data\n",
    "rdd = spark.sparkContext.parallelize(text_data)\n",
    "\n",
    "# Convert all words to lowercase and split each line into words\n",
    "words_rdd = rdd.flatMap(lambda line: line.lower().split())\n",
    "\n",
    "# Remove punctuation from each word\n",
    "import re\n",
    "words_cleaned_rdd = words_rdd.map(lambda word: re.sub(r'[^\\w\\s]', '', word))\n",
    "\n",
    "# \\w: Matches any word character (equivalent to [a-zA-Z0-9_]).\n",
    "# \\s: Matches any whitespace character (spaces, tabs, newlines).\n",
    "# ^: When used inside square brackets, it negates the character class. So,\n",
    "# [^\\w\\s] matches any character that is not a word character or a whitespace character.\n",
    "\n",
    "# Create pairs (word, 1) using map\n",
    "word_pairs = words_cleaned_rdd.map(lambda word: (word, 1))\n",
    "\n",
    "# Reduce by key (word) to count frequency\n",
    "word_counts = word_pairs.reduceByKey(lambda a, b: a + b)\n",
    "\n",
    "# Sort the result by word frequency\n",
    "sorted_word_counts = word_counts.sortBy(lambda x: x[1], ascending=False)\n",
    "\n",
    "# Collect and display the word counts\n",
    "for word, count in sorted_word_counts.collect():\n",
    "    print(f\"{word}: {count}\")\n",
    "\n"
   ]
  },
  {
   "cell_type": "code",
   "execution_count": 17,
   "metadata": {},
   "outputs": [
    {
     "name": "stdout",
     "output_type": "stream",
     "text": [
      "lorem: 2\n",
      "dolor: 2\n",
      "adipiscing: 2\n",
      "ipsum: 2\n",
      "sit: 2\n",
      "amet: 2\n",
      "consectetur: 2\n",
      "elit: 2\n",
      "sed: 1\n",
      "eiusmod: 1\n",
      "incididunt: 1\n",
      "ut: 1\n",
      "et: 1\n",
      "dolore: 1\n",
      "magna: 1\n",
      "aliqua: 1\n",
      "do: 1\n",
      "tempor: 1\n",
      "labore: 1\n"
     ]
    }
   ],
   "source": [
    "# Sample text (lorem ipsum)\n",
    "from pyspark.sql import SparkSession\n",
    "\n",
    "# Initialize Spark session\n",
    "spark = SparkSession.builder.appName(\"WordFrequency\").getOrCreate()\n",
    "\n",
    "# Sample text (lorem ipsum)\n",
    "text_data = [\"Lorem ipsum dolor sit amet, consectetur adipiscing elit.\",\n",
    "             \"Lorem ipsum dolor sit amet, consectetur adipiscing elit.\",\n",
    "             \"Sed do eiusmod tempor incididunt ut labore et dolore magna aliqua.\"]\n",
    "\n",
    "# Create an RDD from the text data\n",
    "rdd = spark.sparkContext.parallelize(text_data).repartition(2)\n",
    "\n",
    "# Convert all words to lowercase and split each line into words\n",
    "words_rdd = rdd.flatMap(lambda line: line.lower().split())\n",
    "\n",
    "# Remove punctuation from each word\n",
    "import re\n",
    "words_cleaned_rdd = words_rdd.map(lambda word: re.sub(r'[^\\w\\s]', '', word))\n",
    "\n",
    "# \\w: Matches any word character (equivalent to [a-zA-Z0-9_]).\n",
    "# \\s: Matches any whitespace character (spaces, tabs, newlines).\n",
    "# ^: When used inside square brackets, it negates the character class. So,\n",
    "# [^\\w\\s] matches any character that is not a word character or a whitespace character.\n",
    "\n",
    "# Create pairs (word, 1) using map\n",
    "word_pairs = words_cleaned_rdd.map(lambda word: (word, 1))\n",
    "\n",
    "# Reduce by key (word) to count frequency\n",
    "word_counts = word_pairs.reduceByKey(lambda a, b: a + b).cache()\n",
    "\n",
    "# Sort the result by word frequency\n",
    "sorted_word_counts = word_counts.sortBy(lambda x: x[1], ascending=False)\n",
    "# sorted_word_counts\n",
    "\n",
    "# Collect and display the word counts\n",
    "for word, count in sorted_word_counts.collect():\n",
    "    print(f\"{word}: {count}\")\n",
    "\n"
   ]
  },
  {
   "cell_type": "code",
   "execution_count": 19,
   "metadata": {},
   "outputs": [
    {
     "name": "stderr",
     "output_type": "stream",
     "text": [
      "                                                                                \r"
     ]
    },
    {
     "name": "stdout",
     "output_type": "stream",
     "text": [
      "+-----------+-----+\n",
      "|       word|count|\n",
      "+-----------+-----+\n",
      "|        sit|    2|\n",
      "|consectetur|    2|\n",
      "|      dolor|    2|\n",
      "|      Lorem|    2|\n",
      "|      ipsum|    2|\n",
      "|           |    3|\n",
      "|       elit|    2|\n",
      "|       amet|    2|\n",
      "| adipiscing|    2|\n",
      "|        Sed|    1|\n",
      "|    eiusmod|    1|\n",
      "|     aliqua|    1|\n",
      "|      magna|    1|\n",
      "| incididunt|    1|\n",
      "|         do|    1|\n",
      "|     labore|    1|\n",
      "|     dolore|    1|\n",
      "|     tempor|    1|\n",
      "|         et|    1|\n",
      "|         ut|    1|\n",
      "+-----------+-----+\n",
      "\n"
     ]
    }
   ],
   "source": [
    "from pyspark.sql import SparkSession\n",
    "from pyspark.sql.functions import col, regexp_replace, split, explode\n",
    "\n",
    "# Initialize Spark session\n",
    "spark = SparkSession.builder.appName(\"WordFrequency\").getOrCreate()\n",
    "\n",
    "# Sample text (lorem ipsum)\n",
    "text_data = [\"Lorem ipsum dolor sit amet, consectetur adipiscing elit.\",\n",
    "             \"Lorem ipsum dolor sit amet, consectetur adipiscing elit.\",\n",
    "             \"Sed do eiusmod tempor incididunt ut labore et dolore magna aliqua.\"]\n",
    "\n",
    "# Create DataFrame with a specified column name\n",
    "text_df = spark.createDataFrame([(line,) for line in text_data], [\"value\"])\n",
    "\n",
    "# Replace multiple delimiters (',', ':', and '.') with a single space\n",
    "cleaned_text_df = text_df.withColumn(\"cleaned_text\", regexp_replace(col(\"value\"), \"[,:.]\", \" \"))\n",
    "\n",
    "# Split the lines into words\n",
    "words_df = cleaned_text_df.select(explode(split(col(\"cleaned_text\"), \"\\s+\")).alias(\"word\"))\n",
    "\n",
    "# Count the occurrences of each word\n",
    "word_counts = words_df.groupBy(\"word\").count()\n",
    "\n",
    "# Show the word counts\n",
    "word_counts.show()\n"
   ]
  },
  {
   "cell_type": "code",
   "execution_count": 20,
   "metadata": {},
   "outputs": [],
   "source": [
    "# Stop the SparkSession\n",
    "spark.stop()"
   ]
  }
 ],
 "metadata": {
  "kernelspec": {
   "display_name": "devenv",
   "language": "python",
   "name": "python3"
  },
  "language_info": {
   "codemirror_mode": {
    "name": "ipython",
    "version": 3
   },
   "file_extension": ".py",
   "mimetype": "text/x-python",
   "name": "python",
   "nbconvert_exporter": "python",
   "pygments_lexer": "ipython3",
   "version": "3.11.5"
  }
 },
 "nbformat": 4,
 "nbformat_minor": 2
}
