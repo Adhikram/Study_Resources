{
 "cells": [
  {
   "cell_type": "code",
   "execution_count": 5,
   "metadata": {},
   "outputs": [
    {
     "name": "stdout",
     "output_type": "stream",
     "text": [
      "[['lorem', 'ipsum', 'dolor', 'sit', 'amet,', 'consectetur', 'adipiscing', 'elit.'], ['lorem', 'ipsum', 'dolor', 'sit', 'amet,', 'consectetur', 'adipiscing', 'elit.'], ['sed', 'do', 'eiusmod', 'tempor', 'incididunt', 'ut', 'labore', 'et', 'dolore', 'magna', 'aliqua.']]\n"
     ]
    }
   ],
   "source": [
    "from pyspark.sql import SparkSession\n",
    "\n",
    "# Initialize Spark session\n",
    "spark = SparkSession.builder.appName(\"WordFrequency\").getOrCreate()\n",
    "\n",
    "# Sample text (lorem ipsum)\n",
    "text_data = [\"Lorem ipsum dolor sit amet, consectetur adipiscing elit.\",\n",
    "             \"Lorem ipsum dolor sit amet, consectetur adipiscing elit.\",\n",
    "             \"Sed do eiusmod tempor incididunt ut labore et dolore magna aliqua.\"]\n",
    "\n",
    "# Create an RDD from the text data\n",
    "rdd = spark.sparkContext.parallelize(text_data)\n",
    "\n",
    "# Convert all words to lowercase and split each line into words\n",
    "words_rdd = rdd.flatMap(lambda line: line.lower().split())\n",
    "\n",
    "# Remove punctuation from each word\n",
    "import re\n",
    "words_cleaned_rdd = words_rdd.map(lambda word: re.sub(r'[^\\w\\s]', '', word))\n",
    "\n",
    "# Create pairs (word, 1) using map\n",
    "word_pairs = words_cleaned_rdd.map(lambda word: (word, 1))\n",
    "\n",
    "# Reduce by key (word) to count frequency\n",
    "word_counts = word_pairs.reduceByKey(lambda a, b: a + b)\n",
    "\n",
    "# Sort the result by word frequency\n",
    "sorted_word_counts = word_counts.sortBy(lambda x: x[1], ascending=False)\n",
    "\n",
    "# Collect and display the word counts\n",
    "for word, count in sorted_word_counts.collect():\n",
    "    print(f\"{word}: {count}\")\n",
    "\n",
    "# Stop the Spark session\n",
    "spark.stop()\n"
   ]
  }
 ],
 "metadata": {
  "kernelspec": {
   "display_name": "devenv",
   "language": "python",
   "name": "python3"
  },
  "language_info": {
   "codemirror_mode": {
    "name": "ipython",
    "version": 3
   },
   "file_extension": ".py",
   "mimetype": "text/x-python",
   "name": "python",
   "nbconvert_exporter": "python",
   "pygments_lexer": "ipython3",
   "version": "3.11.5"
  }
 },
 "nbformat": 4,
 "nbformat_minor": 2
}
