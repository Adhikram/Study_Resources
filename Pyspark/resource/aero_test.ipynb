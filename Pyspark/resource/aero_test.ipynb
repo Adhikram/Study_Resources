{
 "cells": [
  {
   "cell_type": "code",
   "execution_count": 41,
   "metadata": {},
   "outputs": [
    {
     "ename": "",
     "evalue": "",
     "output_type": "error",
     "traceback": [
      "\u001b[1;31mFailed to connect to the remote Jupyter Server 'http://c8-auto-bid-gpu-1.srv.media.net:8998/'. Verify the server is running and reachable. (Failed to connect to the remote Jupyter Server 'http://c8-auto-bid-gpu-1.srv.media.net:8998/'. Verify the server is running and reachable. (Forbidden).)."
     ]
    }
   ],
   "source": [
    "import aerospike\n",
    "import json\n",
    "from aerospike import predicates\n",
    "config = {\n",
    "    'hosts': [\n",
    "        ( 'bidapi-g-use1d-as-p-c8-1.srv.media.net', 3000 )\n",
    "    ],\n",
    "    'policies': {\n",
    "        'timeout': 10000 # milliseconds\n",
    "    }\n",
    "}\n",
    "client = aerospike.client(config).connect()"
   ]
  },
  {
   "cell_type": "code",
   "execution_count": 57,
   "metadata": {},
   "outputs": [
    {
     "ename": "",
     "evalue": "",
     "output_type": "error",
     "traceback": [
      "\u001b[1;31mFailed to connect to the remote Jupyter Server 'http://c8-auto-bid-gpu-1.srv.media.net:8998/'. Verify the server is running and reachable. (Failed to connect to the remote Jupyter Server 'http://c8-auto-bid-gpu-1.srv.media.net:8998/'. Verify the server is running and reachable. (Forbidden).)."
     ]
    }
   ],
   "source": [
    "import json\n",
    "\n",
    "results = {}\n",
    "site_names = {}\n",
    "\n",
    "def collect_results(record):\n",
    "    # Assuming the JSON string is in the third element of the tuple\n",
    "    try:\n",
    "        json_data = json.loads(record[2][''])\n",
    "        for item in json_data:\n",
    "            sd_value = item.get('sd')\n",
    "            sn_value = item.get('sn')\n",
    "            print(f\"SD: {sd_value}, SN: {sn_value}\")\n",
    "            if sd_value:\n",
    "                results[sd_value] = results.get(sd_value, 0) + 1\n",
    "            if sn_value:\n",
    "                site_names[sn_value] = site_names.get(sn_value, 0) + 1\n",
    "    except (KeyError, json.JSONDecodeError) as e:\n",
    "        print(f\"Error processing record: {e}\")\n",
    "\n",
    "try:\n",
    "    query = client.query(\"replicator\", \"RPM_CUSTOMER_STOP_LOSS\")\n",
    "    query.foreach(collect_results)\n",
    "    sd_output = json.dumps(results)\n",
    "    site_output = json.dumps(site_names)\n",
    "    print(sd_output)\n",
    "    print(site_output)\n",
    "    # print(len(results))\n",
    "    # print(len(site_names))\n",
    "except Exception as e:\n",
    "    print(f\"Error: {e}\")"
   ]
  },
  {
   "cell_type": "code",
   "execution_count": 65,
   "metadata": {},
   "outputs": [
    {
     "ename": "",
     "evalue": "",
     "output_type": "error",
     "traceback": [
      "\u001b[1;31mFailed to connect to the remote Jupyter Server 'http://c8-auto-bid-gpu-1.srv.media.net:8998/'. Verify the server is running and reachable. (Failed to connect to the remote Jupyter Server 'http://c8-auto-bid-gpu-1.srv.media.net:8998/'. Verify the server is running and reachable. (Forbidden).)."
     ]
    }
   ],
   "source": [
    "import matplotlib.pyplot as plt\n",
    "from datetime import datetime\n",
    "from collections import defaultdict\n",
    "# Initialize dictionaries to hold monthly and yearly counts\n",
    "monthly_counts = defaultdict(int)\n",
    "yearly_counts = defaultdict(int)\n",
    "datewise_counts = defaultdict(int)\n",
    "\n",
    "# Process each date and aggregate counts\n",
    "for date_str, count in results.items():\n",
    "    date = datetime.strptime(date_str, \"%Y%m%d%H%M%S\")\n",
    "    year_month = date.strftime(\"%Y-%m\")\n",
    "    year = date.strftime(\"%Y\")\n",
    "    date_str = date.strftime(\"%Y-%m-%d-%m\")\n",
    "\n",
    "    monthly_counts[year_month] += count\n",
    "    yearly_counts[year] += count\n",
    "    datewise_counts[date_str] += count\n",
    "\n",
    "# Sort months\n",
    "sorted_months = dict(sorted(monthly_counts.items()))\n",
    "sorted_dates = list(sorted_months.keys())\n",
    "sorted_datewise = dict(sorted(datewise_counts.items()))\n",
    "\n",
    "# Plotting Monthly Counts\n",
    "plt.figure(figsize=(12, 6))\n",
    "bars = plt.bar(sorted_months.keys(), sorted_months.values(), color='skyblue')\n",
    "plt.title(\"Monthly Counts\")\n",
    "plt.xlabel(\"Month\")\n",
    "plt.ylabel(\"Count\")\n",
    "plt.xticks(rotation=45, ha='right')\n",
    "\n",
    "# Add value labels on top of the bars\n",
    "for bar in bars:\n",
    "    yval = bar.get_height()\n",
    "    plt.text(bar.get_x() + bar.get_width()/2, yval, int(yval), va='bottom', ha='center', fontsize=10)\n",
    "\n",
    "plt.tight_layout()\n",
    "plt.show()\n",
    "\n",
    "# Plotting Yearly Counts\n",
    "plt.figure(figsize=(8, 6))\n",
    "bars = plt.bar(yearly_counts.keys(), yearly_counts.values(), color='lightgreen')\n",
    "plt.title(\"Yearly Counts\")\n",
    "plt.xlabel(\"Year\")\n",
    "plt.ylabel(\"Count\")\n",
    "plt.xticks(rotation=45, ha='right')\n",
    "\n",
    "# Add value labels on top of the bars\n",
    "for bar in bars:\n",
    "    yval = bar.get_height()\n",
    "    plt.text(bar.get_x() + bar.get_width()/2, yval, int(yval), va='bottom', ha='center', fontsize=10)\n",
    "\n",
    "plt.tight_layout()\n",
    "plt.show()\n",
    "\n",
    "# Plotting Datewise Counts\n",
    "plt.figure(figsize=(14, 6))\n",
    "bars = plt.bar(sorted_datewise.keys(), sorted_datewise.values(), color='salmon')\n",
    "plt.title(\"Datewise Counts\")\n",
    "plt.xlabel(\"Date\")\n",
    "plt.ylabel(\"Count\")\n",
    "plt.xticks(rotation=45, ha='right')\n",
    "\n",
    "# Add value labels on top of the bars\n",
    "for bar in bars:\n",
    "    yval = bar.get_height()\n",
    "    plt.text(bar.get_x() + bar.get_width()/2, yval, int(yval), va='bottom', ha='center', fontsize=10)\n",
    "\n",
    "plt.tight_layout()\n",
    "plt.show()"
   ]
  },
  {
   "cell_type": "code",
   "execution_count": null,
   "metadata": {},
   "outputs": [],
   "source": []
  }
 ],
 "metadata": {
  "kernelspec": {
   "display_name": "Python 3 (ipykernel)",
   "language": "python",
   "name": "python3"
  }
 },
 "nbformat": 4,
 "nbformat_minor": 2
}
