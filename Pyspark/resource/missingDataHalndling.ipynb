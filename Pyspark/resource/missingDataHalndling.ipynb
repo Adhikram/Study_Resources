{
 "cells": [
  {
   "cell_type": "markdown",
   "metadata": {},
   "source": [
    "We can drop rows or columns containing missing values using the method .dropna().\n",
    "We can fill missing data with a specific value or use interpolation methods with the method .fillna().\n",
    "We can impute missing values using statistical methods, such as mean or median, using Imputer.\n"
   ]
  },
  {
   "cell_type": "code",
   "execution_count": 5,
   "metadata": {},
   "outputs": [
    {
     "name": "stdout",
     "output_type": "stream",
     "text": [
      "Requirement already satisfied: numpy in /Users/adhikram.m/.pyenv/versions/devenv/lib/python3.11/site-packages (2.1.1)\n",
      "+-----+----+--------+-----+\n",
      "| name| age|   price|rooms|\n",
      "+-----+----+--------+-----+\n",
      "|James|  23|300000.0|    3|\n",
      "|  Ann|NULL|    NULL|    2|\n",
      "| John|  45|500000.0| NULL|\n",
      "| NULL|  30|400000.0|    4|\n",
      "+-----+----+--------+-----+\n",
      "\n",
      "+-----+---+--------+-----+\n",
      "| name|age|   price|rooms|\n",
      "+-----+---+--------+-----+\n",
      "|James| 23|300000.0|    3|\n",
      "+-----+---+--------+-----+\n",
      "\n",
      "+-----+----+--------+-----+\n",
      "| name| age|   price|rooms|\n",
      "+-----+----+--------+-----+\n",
      "|James|  23|300000.0|    3|\n",
      "|  Ann|NULL|100000.0|    2|\n",
      "| John|  45|500000.0| NULL|\n",
      "| NULL|  30|400000.0|    4|\n",
      "+-----+----+--------+-----+\n",
      "\n",
      "+-----+----+--------+-----+-------------+-------------+\n",
      "| name| age|   price|rooms|price_imputed|rooms_imputed|\n",
      "+-----+----+--------+-----+-------------+-------------+\n",
      "|James|  23|300000.0|    3|     300000.0|            3|\n",
      "|  Ann|NULL|    NULL|    2|     400000.0|            2|\n",
      "| John|  45|500000.0| NULL|     500000.0|            3|\n",
      "| NULL|  30|400000.0|    4|     400000.0|            4|\n",
      "+-----+----+--------+-----+-------------+-------------+\n",
      "\n"
     ]
    }
   ],
   "source": [
    "# Install numpy if not already installed\n",
    "!pip install numpy\n",
    "\n",
    "from pyspark.sql import SparkSession\n",
    "from pyspark.sql import Row\n",
    "from pyspark.sql.types import StructType, StructField, StringType, IntegerType, FloatType\n",
    "from pyspark.ml.feature import Imputer\n",
    "\n",
    "# Create SparkSession\n",
    "spark = SparkSession.builder.appName(\"MissingDataHandling\").getOrCreate()\n",
    "\n",
    "# Define schema\n",
    "schema = StructType([\n",
    "    StructField(\"name\", StringType(), True),\n",
    "    StructField(\"age\", IntegerType(), True),\n",
    "    StructField(\"price\", FloatType(), True),\n",
    "    StructField(\"rooms\", IntegerType(), True)\n",
    "])\n",
    "\n",
    "# Create a list of Rows with some missing values\n",
    "row_list = [\n",
    "    Row(name=\"James\", age=23, price=300000.0, rooms=3),\n",
    "    Row(name=\"Ann\", age=None, price=None, rooms=2),\n",
    "    Row(name=\"John\", age=45, price=500000.0, rooms=None),\n",
    "    Row(name=None, age=30, price=400000.0, rooms=4)\n",
    "]\n",
    "\n",
    "# Create DataFrame\n",
    "df = spark.createDataFrame(row_list, schema)\n",
    "df.show()\n",
    "\n",
    "# How to drop rows with any missing values\n",
    "df_dropped = df.dropna(how=\"any\")\n",
    "df_dropped.show()\n",
    "\n",
    "# How to fill missing values with a constant\n",
    "df_filled = df.fillna(value=2) #.fillna(value=100000.0, subset=[\"price\"]) #.fillna(value=\"name\")\n",
    "df_filled.show()\n",
    "\n",
    "# How to impute values with median\n",
    "imputer = Imputer(strategy=\"median\", inputCols=[\"price\", \"rooms\"], outputCols=[\"price_imputed\", \"rooms_imputed\"])\n",
    "model = imputer.fit(df)\n",
    "df_imputed = model.transform(df)\n",
    "df_imputed.show()"
   ]
  },
  {
   "cell_type": "code",
   "execution_count": null,
   "metadata": {},
   "outputs": [],
   "source": []
  }
 ],
 "metadata": {
  "kernelspec": {
   "display_name": "devenv",
   "language": "python",
   "name": "python3"
  },
  "language_info": {
   "codemirror_mode": {
    "name": "ipython",
    "version": 3
   },
   "file_extension": ".py",
   "mimetype": "text/x-python",
   "name": "python",
   "nbconvert_exporter": "python",
   "pygments_lexer": "ipython3",
   "version": "3.11.5"
  }
 },
 "nbformat": 4,
 "nbformat_minor": 2
}
