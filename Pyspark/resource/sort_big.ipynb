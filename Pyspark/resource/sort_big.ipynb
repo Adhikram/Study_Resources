{
 "cells": [
  {
   "cell_type": "code",
   "execution_count": null,
   "metadata": {},
   "outputs": [],
   "source": [
    "from pyspark.sql import SparkSession\n",
    "from pyspark.sql.functions import col\n",
    "import random\n",
    "import heapq\n",
    "\n",
    "\n",
    "# Initialize SparkSession\n",
    "spark = SparkSession.builder.appName(\"SortLargeDataset\").getOrCreate()"
   ]
  },
  {
   "cell_type": "code",
   "execution_count": null,
   "metadata": {},
   "outputs": [],
   "source": [
    "\n",
    "# Generate a large dataset\n",
    "def generate_large_dataset(file_path, num_records):\n",
    "    with open(file_path, 'w') as f:\n",
    "        for _ in range(num_records):\n",
    "            record = random.randint(1, 1000000000)\n",
    "            f.write(f\"{record}\\n\")\n",
    "\n",
    "# Example usage\n",
    "file_path = 'large_dataset.txt'\n",
    "num_records = 1000000  # For demonstration, use a smaller number\n",
    "generate_large_dataset(file_path, num_records)\n",
    "\n",
    "# Load the dataset into a Spark DataFrame\n",
    "df = spark.read.text(file_path).withColumnRenamed(\"value\", \"number\")\n",
    "df.show(5)\n",
    "\n",
    "# Convert the column to integer type\n",
    "df = df.withColumn(\"number\", col(\"number\").cast(\"int\"))\n",
    "\n",
    "# Repartition the DataFrame to create chunks\n",
    "num_partitions = 10  # Adjust based on available resources\n",
    "df = df.repartition(num_partitions)\n",
    "\n",
    "# Convert DataFrame to RDD\n",
    "rdd = df.rdd\n",
    "\n",
    "# Sort each partition individually\n",
    "sorted_rdd = rdd.mapPartitions(lambda partition: \\\n",
    "    sorted(partition, key=lambda row: row['number']))\n",
    "\n",
    "# Function to merge sorted partitions using a heap\n",
    "def merge_sorted_partitions(partitions):\n",
    "    min_heap = []\n",
    "    for partition in partitions:\n",
    "        for row in partition:\n",
    "            heapq.heappush(min_heap, row['number'])\n",
    "    sorted_list = []\n",
    "    while min_heap:\n",
    "        sorted_list.append(heapq.heappop(min_heap))\n",
    "    return iter(sorted_list)\n",
    "\n",
    "# Apply the merge function to the sorted partitions\n",
    "merged_sorted_rdd = sorted_rdd.mapPartitions(lambda \\\n",
    "    partition: merge_sorted_partitions([partition]))\n",
    "\n",
    "# Convert the RDD back to a DataFrame\n",
    "sorted_df = merged_sorted_rdd.map(lambda x: (x,)).toDF([\"number\"])\n",
    "\n",
    "# Save the sorted DataFrame to a file\n",
    "output_file = 'sorted_large_dataset'\n",
    "sorted_df.coalesce(1).write.format(\"noop\").csv(output_file, header=True)"
   ]
  },
  {
   "cell_type": "code",
   "execution_count": null,
   "metadata": {},
   "outputs": [],
   "source": [
    "spark.stop()"
   ]
  },
  {
   "cell_type": "code",
   "execution_count": null,
   "metadata": {},
   "outputs": [],
   "source": []
  }
 ],
 "metadata": {
  "kernelspec": {
   "display_name": "devenv",
   "language": "python",
   "name": "python3"
  },
  "language_info": {
   "codemirror_mode": {
    "name": "ipython",
    "version": 3
   },
   "file_extension": ".py",
   "mimetype": "text/x-python",
   "name": "python",
   "nbconvert_exporter": "python",
   "pygments_lexer": "ipython3",
   "version": "3.11.5"
  }
 },
 "nbformat": 4,
 "nbformat_minor": 2
}
