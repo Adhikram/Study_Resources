{
 "cells": [
  {
   "cell_type": "code",
   "execution_count": 1,
   "metadata": {},
   "outputs": [
    {
     "name": "stderr",
     "output_type": "stream",
     "text": [
      "24/09/12 00:05:14 WARN Utils: Your hostname, BMMDVADHIKRAMM.local resolves to a loopback address: 127.0.2.2; using 10.106.27.73 instead (on interface en0)\n",
      "24/09/12 00:05:14 WARN Utils: Set SPARK_LOCAL_IP if you need to bind to another address\n",
      "Setting default log level to \"WARN\".\n",
      "To adjust logging level use sc.setLogLevel(newLevel). For SparkR, use setLogLevel(newLevel).\n",
      "24/09/12 00:05:14 WARN NativeCodeLoader: Unable to load native-hadoop library for your platform... using builtin-java classes where applicable\n",
      "24/09/12 00:05:15 WARN Utils: Service 'SparkUI' could not bind on port 4040. Attempting port 4041.\n",
      "24/09/12 00:05:15 WARN Utils: Service 'SparkUI' could not bind on port 4041. Attempting port 4042.\n",
      "24/09/12 00:05:15 WARN Utils: Service 'SparkUI' could not bind on port 4042. Attempting port 4043.\n",
      "24/09/12 00:05:15 WARN Utils: Service 'SparkUI' could not bind on port 4043. Attempting port 4044.\n",
      "24/09/12 00:05:15 WARN Utils: Service 'SparkUI' could not bind on port 4044. Attempting port 4045.\n",
      "24/09/12 00:05:15 WARN Utils: Service 'SparkUI' could not bind on port 4045. Attempting port 4046.\n",
      "24/09/12 00:05:15 WARN Utils: Service 'SparkUI' could not bind on port 4046. Attempting port 4047.\n",
      "                                                                                \r"
     ]
    },
    {
     "name": "stdout",
     "output_type": "stream",
     "text": [
      "+-------+---------------+\n",
      "|  uName|totalEventCount|\n",
      "+-------+---------------+\n",
      "|Charlie|              2|\n",
      "|    Bob|              1|\n",
      "|  Alice|              2|\n",
      "+-------+---------------+\n",
      "\n"
     ]
    }
   ],
   "source": [
    "from pyspark.sql import SparkSession\n",
    "from pyspark.sql.functions import col\n",
    "\n",
    "# Initialize SparkSession\n",
    "spark = SparkSession.builder.appName(\"EventCountExample\").getOrCreate()\n",
    "\n",
    "# Sample data for DF1: uId, uName\n",
    "data1 = [\n",
    "    (1, \"Alice\"),\n",
    "    (2, \"Bob\"),\n",
    "    (3, \"Charlie\")\n",
    "]\n",
    "\n",
    "# Sample data for DF2: uId, pageId, timestamp, eventType\n",
    "data2 = [\n",
    "    (1, \"page1\", \"2023-01-01 10:00:00\", \"click\"),\n",
    "    (1, \"page2\", \"2023-01-01 10:05:00\", \"view\"),\n",
    "    (2, \"page1\", \"2023-01-01 11:00:00\", \"click\"),\n",
    "    (3, \"page3\", \"2023-01-01 12:00:00\", \"view\"),\n",
    "    (3, \"page4\", \"2023-01-01 12:05:00\", \"click\")\n",
    "]\n",
    "\n",
    "# Create DataFrames\n",
    "df1 = spark.createDataFrame(data1, [\"uId\", \"uName\"])\n",
    "df2 = spark.createDataFrame(data2, [\"uId\", \"pageId\", \"timestamp\", \"eventType\"])\n",
    "\n",
    "# Join the DataFrames on uId and count events per uName\n",
    "result = df1.join(df2, \"uId\") \\\n",
    "            .groupBy(\"uName\") \\\n",
    "            .count() \\\n",
    "            .withColumnRenamed(\"count\", \"totalEventCount\")\n",
    "\n",
    "# Display the result\n",
    "result.show()\n",
    "\n",
    "# Stop the SparkSession\n",
    "spark.stop()"
   ]
  }
 ],
 "metadata": {
  "kernelspec": {
   "display_name": "devenv",
   "language": "python",
   "name": "python3"
  },
  "language_info": {
   "codemirror_mode": {
    "name": "ipython",
    "version": 3
   },
   "file_extension": ".py",
   "mimetype": "text/x-python",
   "name": "python",
   "nbconvert_exporter": "python",
   "pygments_lexer": "ipython3",
   "version": "3.11.5"
  }
 },
 "nbformat": 4,
 "nbformat_minor": 2
}
