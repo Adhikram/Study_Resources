{
 "cells": [
  {
   "cell_type": "code",
   "execution_count": null,
   "metadata": {},
   "outputs": [],
   "source": [
    "from pyspark.sql.types import IntegerType, DateType, StringType, StructType\n",
    "from pyspark.sql import SparkSession\n",
    "\t\n",
    "spark = SparkSession.builder \\\n",
    "        .appName(\"OrthoPatients\") \\\n",
    "        .getOrCreate()\n",
    "customSchema = StructType() \\\n",
    "        .add(\"PID\", IntegerType(), True) \\\n",
    "        .add(\"Name\", StringType(), True) \\\n",
    "        .add(\"DID\", IntegerType(), True) \\\n",
    "        .add(\"DName\", StringType(), True) \\\n",
    "        .add(\"VisitDate\", DateType(), True)\n",
    "\n",
    "#read the CSV file with headers and apply the schema\n",
    "dfPatients =  spark \\\n",
    "        .readStream \\\n",
    "        .format(\"csv\") \\\n",
    "        .option(\"header\",True) \\\n",
    "        .option(\"path\",\"dept_data.csv\") \\\n",
    "        .schema(customSchema) \\\n",
    "        .load()\n",
    "\n",
    "\n",
    "#Apply filters to get only patients from the ortho department\n",
    "orthoPatients = dfPatients.select(\"PID\",\"Name\").where(\"DID =86\")\n",
    "\n",
    "\n",
    "#start the streaming of output data\n",
    "orthoPatients \\\n",
    "        .writeStream \\\n",
    "        .format(\"console\") \\\n",
    "        .start()"
   ]
  }
 ],
 "metadata": {
  "kernelspec": {
   "display_name": "devenv",
   "language": "python",
   "name": "python3"
  },
  "language_info": {
   "codemirror_mode": {
    "name": "ipython",
    "version": 3
   },
   "file_extension": ".py",
   "mimetype": "text/x-python",
   "name": "python",
   "nbconvert_exporter": "python",
   "pygments_lexer": "ipython3",
   "version": "3.11.5"
  }
 },
 "nbformat": 4,
 "nbformat_minor": 2
}
