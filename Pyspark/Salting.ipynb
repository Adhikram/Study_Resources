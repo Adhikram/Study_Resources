{
 "cells": [
  {
   "cell_type": "code",
   "execution_count": null,
   "metadata": {},
   "outputs": [
    {
     "ename": "",
     "evalue": "",
     "output_type": "error",
     "traceback": [
      "\u001b[1;31mRunning cells with 'Python 3.13.2' requires the ipykernel package.\n",
      "\u001b[1;31mRun the following command to install 'ipykernel' into the Python environment. \n",
      "\u001b[1;31mCommand: '/opt/homebrew/bin/python3 -m pip install ipykernel -U --user --force-reinstall'"
     ]
    }
   ],
   "source": [
    "\n",
    "from pyspark.sql import SparkSession\n",
    "from pyspark.sql.functions import col, concat, lit, rand\n",
    "\n",
    "# Initialize Spark session\n",
    "spark = SparkSession.builder.appName(\"SaltingExample\").getOrCreate()\n",
    "\n",
    "# Sample data creation\n",
    "data = [\n",
    "    (\"key1\", \"value1\"),\n",
    "    (\"key1\", \"value2\"),\n",
    "    (\"key1\", \"value3\"),\n",
    "    (\"key2\", \"value4\"),\n",
    "    (\"key3\", \"value5\"),\n",
    "    (\"key3\", \"value6\"),\n",
    "    (\"key3\", \"value7\"),\n",
    "    (\"key3\", \"value8\"),\n",
    "]\n",
    "\n",
    "# Create DataFrame\n",
    "df = spark.createDataFrame(data, [\"key\", \"value\"])\n",
    "\n",
    "# Show initial data\n",
    "print(\"Initial Data:\")\n",
    "df.show()\n",
    "\n",
    "# Check the number of partitions\n",
    "print(f\"Initial number of partitions: {df.rdd.getNumPartitions()}\")\n",
    "\n",
    "# Salting process\n",
    "# Add a salt to the key to distribute data more evenly\n",
    "salted_df = df.withColumn(\"salted_key\", concat(col(\"key\"), lit(\"_\"), (rand() * 10).cast(\"int\")))\n",
    "\n",
    "# Show salted data\n",
    "print(\"Salted Data:\")\n",
    "salted_df.show()\n",
    "\n",
    "# Check the number of partitions after salting\n",
    "print(f\"Number of partitions after salting: {salted_df.rdd.getNumPartitions()}\")\n",
    "\n",
    "# Perform a group by operation on the salted key\n",
    "grouped_df = salted_df.groupBy(\"salted_key\").count()\n",
    "\n",
    "# Show the result of the group by operation\n",
    "print(\"Grouped Data:\")\n",
    "grouped_df.show()\n",
    "\n"
   ]
  },
  {
   "cell_type": "code",
   "execution_count": 3,
   "metadata": {},
   "outputs": [],
   "source": [
    "# Stop the Spark session\n",
    "spark.stop()"
   ]
  }
 ],
 "metadata": {
  "kernelspec": {
   "display_name": "Python 3",
   "language": "python",
   "name": "python3"
  },
  "language_info": {
   "codemirror_mode": {
    "name": "ipython",
    "version": 3
   },
   "file_extension": ".py",
   "mimetype": "text/x-python",
   "name": "python",
   "nbconvert_exporter": "python",
   "pygments_lexer": "ipython3",
   "version": "3.13.2"
  }
 },
 "nbformat": 4,
 "nbformat_minor": 2
}
