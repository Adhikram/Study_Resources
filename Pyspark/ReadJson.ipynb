{
 "cells": [
  {
   "cell_type": "code",
   "execution_count": null,
   "metadata": {},
   "outputs": [],
   "source": [
    "import pyspark\n",
    "from pyspark.sql.types import StructType, StructField, StringType, DoubleType, IntegerType, TimestampType\n",
    "from pyspark.sql import SparkSession\n",
    "spark = SparkSession.builder.appName('PY-Spark INIT')\\\n",
    "    .config('spark.driver.extraClassPath', 'mysql-connector-java-8.0.16.jar')\\\n",
    "    .config('spark.executor.extraClassPath', 'mysql-connector-java-8.0.16.jar')\\\n",
    "    .config('spark.jars', 'mysql-connector-java-8.0.16.jar')\\\n",
    ".enableHiveSupport().getOrCreate()\n",
    "curse_words = spark.read.text(\"inappropriate_words.txt\")\n",
    "curse_words.show()\n",
    "schema = StructType([\n",
    "    StructField(\"publishedAt\", StringType(), True),\n",
    "    StructField(\"rating\", DoubleType(), True),\n",
    "    StructField(\"restaurantId\", IntegerType(), True),\n",
    "    StructField(\"reviewId\", IntegerType(), True),\n",
    "    StructField(\"text\", StringType(), True)\n",
    "])\n",
    "df = spark.read.json(\"reviews.jsonl\", schema=schema)\n",
    "inappropriate_words_list = curse_words.select(\"value\").rdd.flatMap(lambda x: x).collect()\n",
    "print(inappropriate_words_list)\n",
    "df.show()\n"
   ]
  },
  {
   "cell_type": "code",
   "execution_count": null,
   "metadata": {},
   "outputs": [],
   "source": [
    "from pyspark.sql.functions import col, udf\n",
    "\n",
    "# Function to replace inappropriate words with asterisks\n",
    "def filter_inappropriate(text):\n",
    "    words = text.split()\n",
    "    for i, word in enumerate(words):\n",
    "        if any (inappropriate_word in word.lower() for inappropriate_word in inappropriate_words_list):\n",
    "            words[i] = \"****\"\n",
    "    return \" \".join(words)\n",
    "\n",
    "# Calculate the proportion of inappropriate words in each review\n",
    "\n",
    "def calculate_proportion(text):\n",
    "    if not text:\n",
    "        return 0\n",
    "    total_words = len(text.split())\n",
    "    inappropriate_count = text.count(\"*\")  # Count the asterisks representing filtered inappropriate words\n",
    "    return inappropriate_count / total_words\n",
    "\n",
    "# UDF to apply the function to the \"text\" column\n",
    "filter_inappropriate_udf = udf(filter_inappropriate, StringType())\n",
    "calculate_proportion_udf = udf(calculate_proportion, StringType())\n",
    "\n",
    "\n",
    "review_data = df.withColumn(\"filtered_text\", filter_inappropriate_udf(col(\"text\")))\\\n",
    ".withColumn(\"inap_pct\", round( calculate_proportion_udf(col(\"filtered_text\")), 4))\\\n",
    ".filter(col(\"inap_pct\") < 0.5)\n",
    "review_data.show(500)"
   ]
  },
  {
   "cell_type": "code",
   "execution_count": null,
   "metadata": {},
   "outputs": [],
   "source": [
    "from pyspark.sql.window import Window\n",
    "window_spec = Window.partitionBy(\"restaurantId\", \"year\")\n",
    "final_data = review_data.withColumn(\"year\", date_format(to_timestamp(\"publishedAt\", \"yyyy-MM-dd'T'HH:mm:ss.SSS'Z'\"), \"yyyy\"))\\\n",
    ".withColumn(\"date\", to_date(to_timestamp(\"publishedAt\", \"yyyy-MM-dd'T'HH:mm:ss.SSS'Z'\")))\\\n",
    ".withColumn(\"month\", date_format(to_timestamp(\"publishedAt\", \"yyyy-MM-dd'T'HH:mm:ss.SSS'Z'\"), \"yyyy-MM\"))\\\n",
    ".withColumn(\"Avg Monthly Rating\",round( avg(\"rating\").over(window_spec), 4))\\\n",
    ".withColumn(\"Max Monthly Rating\", max(\"rating\").over(window_spec))\\\n",
    ".withColumn(\"Min Monthly Rating\", min(\"rating\").over(window_spec))\n",
    "final_data.drop(\"publishedAt\", \"date\", \"month\").show(500)\n",
    "final_data.repartition(1).write.json(\"output1.json\")"
   ]
  }
 ],
 "metadata": {
  "kernelspec": {
   "display_name": "devenv",
   "language": "python",
   "name": "python3"
  },
  "language_info": {
   "codemirror_mode": {
    "name": "ipython",
    "version": 3
   },
   "file_extension": ".py",
   "mimetype": "text/x-python",
   "name": "python",
   "nbconvert_exporter": "python",
   "pygments_lexer": "ipython3",
   "version": "3.11.5"
  }
 },
 "nbformat": 4,
 "nbformat_minor": 2
}
