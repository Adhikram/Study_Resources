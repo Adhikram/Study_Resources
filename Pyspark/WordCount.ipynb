{
 "cells": [
  {
   "cell_type": "code",
   "execution_count": 2,
   "metadata": {},
   "outputs": [
    {
     "name": "stdout",
     "output_type": "stream",
     "text": [
      "+-----------+-----+\n",
      "|       word|count|\n",
      "+-----------+-----+\n",
      "|        Sed|    1|\n",
      "|     cillum|    1|\n",
      "|      velit|    1|\n",
      "|     fugiat|    1|\n",
      "|        non|    1|\n",
      "|    eiusmod|    1|\n",
      "|         ex|    1|\n",
      "|    nostrud|    1|\n",
      "|        sit|    1|\n",
      "|consectetur|    1|\n",
      "|    laboris|    1|\n",
      "|       Duis|    1|\n",
      "|   occaecat|    1|\n",
      "|         in|    3|\n",
      "|       aute|    1|\n",
      "|       enim|    1|\n",
      "|  pariatur.|    1|\n",
      "|    commodo|    1|\n",
      "|       sunt|    1|\n",
      "|        qui|    1|\n",
      "+-----------+-----+\n",
      "only showing top 20 rows\n",
      "\n"
     ]
    }
   ],
   "source": [
    "from pyspark.sql import SparkSession\n",
    "from pyspark.sql.functions import explode, split, col\n",
    "\n",
    "# Create a SparkSession\n",
    "spark = SparkSession.builder \\\n",
    "    .appName(\"WordCount\") \\\n",
    "    .getOrCreate()\n",
    "\n",
    "# Read the text file\n",
    "text_df = spark.read.text(\"text.txt\")\n",
    "\n",
    "# Split the lines into words\n",
    "words_df = text_df.select(explode(split(col(\"value\"), \" \")).alias(\"word\"))\n",
    "\n",
    "# Count the occurrences of each word\n",
    "word_counts = words_df.groupBy(\"word\").count()\n",
    "\n",
    "# Show the word counts\n",
    "word_counts.show()\n",
    "\n",
    "# Stop the SparkSession\n",
    "spark.stop()\n",
    "# In summary:\n",
    "\n",
    "# Total Jobs: One job is triggered during the creation of SparkSession.\n",
    "\n",
    "# Total Stages: At least three stages are created: one for reading the text file, \n",
    "# one for splitting lines into words, and one for the word count operation.\n",
    "\n",
    "# Total Tasks: The exact number of tasks depends on the number of partitions \n",
    "# in the data and the size of the DataFrames after each transformation. Spark dynamically determines the number of tasks."
   ]
  },
  {
   "cell_type": "code",
   "execution_count": 5,
   "metadata": {},
   "outputs": [
    {
     "name": "stdout",
     "output_type": "stream",
     "text": [
      "+-----------+-----+\n",
      "|       word|count|\n",
      "+-----------+-----+\n",
      "|        Sed|    1|\n",
      "|     veniam|    1|\n",
      "|     cillum|    1|\n",
      "|      velit|    1|\n",
      "|     fugiat|    1|\n",
      "|        non|    1|\n",
      "|    eiusmod|    1|\n",
      "|         ex|    1|\n",
      "|    nostrud|    1|\n",
      "|        sit|    1|\n",
      "|consectetur|    1|\n",
      "|    laboris|    1|\n",
      "|       Duis|    1|\n",
      "|   occaecat|    1|\n",
      "|         in|    3|\n",
      "|       aute|    1|\n",
      "|       enim|    1|\n",
      "|  pariatur.|    1|\n",
      "|    commodo|    1|\n",
      "|       sunt|    1|\n",
      "+-----------+-----+\n",
      "only showing top 20 rows\n",
      "\n"
     ]
    }
   ],
   "source": [
    "from pyspark.sql import SparkSession\n",
    "from pyspark.sql.functions import col, regexp_replace, split, explode\n",
    "\n",
    "# Create a SparkSession\n",
    "spark = SparkSession.builder \\\n",
    "    .appName(\"WordCount\") \\\n",
    "    .getOrCreate()\n",
    "\n",
    "# Read the text file\n",
    "text_df = spark.read.text(\"text.txt\")\n",
    "\n",
    "# Replace multiple delimiters (',', ':', and space) with a single space\n",
    "cleaned_text_df = text_df.withColumn(\"cleaned_text\", regexp_replace(col(\"value\"), \"[,:]\", \" \"))\n",
    "\n",
    "# Split the lines into words\n",
    "words_df = cleaned_text_df.select(explode(split(col(\"cleaned_text\"), \"\\s+\")).alias(\"word\"))\n",
    "\n",
    "# Count the occurrences of each word\n",
    "word_counts = words_df.groupBy(\"word\").count()\n",
    "\n",
    "# Show the word counts\n",
    "word_counts.show()\n",
    "\n",
    "# Stop the SparkSession\n",
    "spark.stop()"
   ]
  },
  {
   "cell_type": "code",
   "execution_count": null,
   "metadata": {},
   "outputs": [],
   "source": []
  }
 ],
 "metadata": {
  "kernelspec": {
   "display_name": "devenv",
   "language": "python",
   "name": "python3"
  },
  "language_info": {
   "codemirror_mode": {
    "name": "ipython",
    "version": 3
   },
   "file_extension": ".py",
   "mimetype": "text/x-python",
   "name": "python",
   "nbconvert_exporter": "python",
   "pygments_lexer": "ipython3",
   "version": "3.11.5"
  }
 },
 "nbformat": 4,
 "nbformat_minor": 2
}
